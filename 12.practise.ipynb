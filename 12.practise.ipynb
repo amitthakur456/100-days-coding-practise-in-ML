{
 "cells": [
  {
   "cell_type": "markdown",
   "id": "ae53fd83-b034-4762-8e62-1503e2f7752a",
   "metadata": {},
   "source": [
    "# Titanic Project"
   ]
  },
  {
   "cell_type": "code",
   "execution_count": 1,
   "id": "425c750a-5902-4519-816c-b489aba9451f",
   "metadata": {},
   "outputs": [],
   "source": [
    "import pandas as pd\n",
    "import numpy as np\n",
    "import matplotlib.pyplot as plt\n",
    "import seaborn as sns"
   ]
  },
  {
   "cell_type": "code",
   "execution_count": 2,
   "id": "69f538f5-2393-42b0-9547-7189035619fb",
   "metadata": {},
   "outputs": [],
   "source": [
    "# Load the dataset\n",
    "data = pd.read_csv('titanic_dataset.csv')"
   ]
  },
  {
   "cell_type": "code",
   "execution_count": 3,
   "id": "55bc31e2-be80-4ade-b4db-f4b8ad84b7c2",
   "metadata": {},
   "outputs": [
    {
     "data": {
      "text/html": [
       "<div>\n",
       "<style scoped>\n",
       "    .dataframe tbody tr th:only-of-type {\n",
       "        vertical-align: middle;\n",
       "    }\n",
       "\n",
       "    .dataframe tbody tr th {\n",
       "        vertical-align: top;\n",
       "    }\n",
       "\n",
       "    .dataframe thead th {\n",
       "        text-align: right;\n",
       "    }\n",
       "</style>\n",
       "<table border=\"1\" class=\"dataframe\">\n",
       "  <thead>\n",
       "    <tr style=\"text-align: right;\">\n",
       "      <th></th>\n",
       "      <th>PassengerId</th>\n",
       "      <th>Survived</th>\n",
       "      <th>Pclass</th>\n",
       "      <th>Name</th>\n",
       "      <th>Sex</th>\n",
       "      <th>Age</th>\n",
       "      <th>SibSp</th>\n",
       "      <th>Parch</th>\n",
       "      <th>Ticket</th>\n",
       "      <th>Fare</th>\n",
       "      <th>Cabin</th>\n",
       "      <th>Embarked</th>\n",
       "    </tr>\n",
       "  </thead>\n",
       "  <tbody>\n",
       "    <tr>\n",
       "      <th>0</th>\n",
       "      <td>892</td>\n",
       "      <td>0</td>\n",
       "      <td>3</td>\n",
       "      <td>Kelly, Mr. James</td>\n",
       "      <td>male</td>\n",
       "      <td>34.5</td>\n",
       "      <td>0</td>\n",
       "      <td>0</td>\n",
       "      <td>330911</td>\n",
       "      <td>7.8292</td>\n",
       "      <td>NaN</td>\n",
       "      <td>Q</td>\n",
       "    </tr>\n",
       "    <tr>\n",
       "      <th>1</th>\n",
       "      <td>893</td>\n",
       "      <td>1</td>\n",
       "      <td>3</td>\n",
       "      <td>Wilkes, Mrs. James (Ellen Needs)</td>\n",
       "      <td>female</td>\n",
       "      <td>47.0</td>\n",
       "      <td>1</td>\n",
       "      <td>0</td>\n",
       "      <td>363272</td>\n",
       "      <td>7.0000</td>\n",
       "      <td>NaN</td>\n",
       "      <td>S</td>\n",
       "    </tr>\n",
       "    <tr>\n",
       "      <th>2</th>\n",
       "      <td>894</td>\n",
       "      <td>0</td>\n",
       "      <td>2</td>\n",
       "      <td>Myles, Mr. Thomas Francis</td>\n",
       "      <td>male</td>\n",
       "      <td>62.0</td>\n",
       "      <td>0</td>\n",
       "      <td>0</td>\n",
       "      <td>240276</td>\n",
       "      <td>9.6875</td>\n",
       "      <td>NaN</td>\n",
       "      <td>Q</td>\n",
       "    </tr>\n",
       "    <tr>\n",
       "      <th>3</th>\n",
       "      <td>895</td>\n",
       "      <td>0</td>\n",
       "      <td>3</td>\n",
       "      <td>Wirz, Mr. Albert</td>\n",
       "      <td>male</td>\n",
       "      <td>27.0</td>\n",
       "      <td>0</td>\n",
       "      <td>0</td>\n",
       "      <td>315154</td>\n",
       "      <td>8.6625</td>\n",
       "      <td>NaN</td>\n",
       "      <td>S</td>\n",
       "    </tr>\n",
       "    <tr>\n",
       "      <th>4</th>\n",
       "      <td>896</td>\n",
       "      <td>1</td>\n",
       "      <td>3</td>\n",
       "      <td>Hirvonen, Mrs. Alexander (Helga E Lindqvist)</td>\n",
       "      <td>female</td>\n",
       "      <td>22.0</td>\n",
       "      <td>1</td>\n",
       "      <td>1</td>\n",
       "      <td>3101298</td>\n",
       "      <td>12.2875</td>\n",
       "      <td>NaN</td>\n",
       "      <td>S</td>\n",
       "    </tr>\n",
       "  </tbody>\n",
       "</table>\n",
       "</div>"
      ],
      "text/plain": [
       "   PassengerId  Survived  Pclass  \\\n",
       "0          892         0       3   \n",
       "1          893         1       3   \n",
       "2          894         0       2   \n",
       "3          895         0       3   \n",
       "4          896         1       3   \n",
       "\n",
       "                                           Name     Sex   Age  SibSp  Parch  \\\n",
       "0                              Kelly, Mr. James    male  34.5      0      0   \n",
       "1              Wilkes, Mrs. James (Ellen Needs)  female  47.0      1      0   \n",
       "2                     Myles, Mr. Thomas Francis    male  62.0      0      0   \n",
       "3                              Wirz, Mr. Albert    male  27.0      0      0   \n",
       "4  Hirvonen, Mrs. Alexander (Helga E Lindqvist)  female  22.0      1      1   \n",
       "\n",
       "    Ticket     Fare Cabin Embarked  \n",
       "0   330911   7.8292   NaN        Q  \n",
       "1   363272   7.0000   NaN        S  \n",
       "2   240276   9.6875   NaN        Q  \n",
       "3   315154   8.6625   NaN        S  \n",
       "4  3101298  12.2875   NaN        S  "
      ]
     },
     "execution_count": 3,
     "metadata": {},
     "output_type": "execute_result"
    }
   ],
   "source": [
    "# checking the first five row\n",
    "data.head()"
   ]
  },
  {
   "cell_type": "code",
   "execution_count": 4,
   "id": "d639c53a-9906-49b1-8264-6e5cb6c911ff",
   "metadata": {},
   "outputs": [
    {
     "data": {
      "text/html": [
       "<div>\n",
       "<style scoped>\n",
       "    .dataframe tbody tr th:only-of-type {\n",
       "        vertical-align: middle;\n",
       "    }\n",
       "\n",
       "    .dataframe tbody tr th {\n",
       "        vertical-align: top;\n",
       "    }\n",
       "\n",
       "    .dataframe thead th {\n",
       "        text-align: right;\n",
       "    }\n",
       "</style>\n",
       "<table border=\"1\" class=\"dataframe\">\n",
       "  <thead>\n",
       "    <tr style=\"text-align: right;\">\n",
       "      <th></th>\n",
       "      <th>PassengerId</th>\n",
       "      <th>Survived</th>\n",
       "      <th>Pclass</th>\n",
       "      <th>Age</th>\n",
       "      <th>SibSp</th>\n",
       "      <th>Parch</th>\n",
       "      <th>Fare</th>\n",
       "    </tr>\n",
       "  </thead>\n",
       "  <tbody>\n",
       "    <tr>\n",
       "      <th>count</th>\n",
       "      <td>418.000000</td>\n",
       "      <td>418.000000</td>\n",
       "      <td>418.000000</td>\n",
       "      <td>332.000000</td>\n",
       "      <td>418.000000</td>\n",
       "      <td>418.000000</td>\n",
       "      <td>417.000000</td>\n",
       "    </tr>\n",
       "    <tr>\n",
       "      <th>mean</th>\n",
       "      <td>1100.500000</td>\n",
       "      <td>0.363636</td>\n",
       "      <td>2.265550</td>\n",
       "      <td>30.272590</td>\n",
       "      <td>0.447368</td>\n",
       "      <td>0.392344</td>\n",
       "      <td>35.627188</td>\n",
       "    </tr>\n",
       "    <tr>\n",
       "      <th>std</th>\n",
       "      <td>120.810458</td>\n",
       "      <td>0.481622</td>\n",
       "      <td>0.841838</td>\n",
       "      <td>14.181209</td>\n",
       "      <td>0.896760</td>\n",
       "      <td>0.981429</td>\n",
       "      <td>55.907576</td>\n",
       "    </tr>\n",
       "    <tr>\n",
       "      <th>min</th>\n",
       "      <td>892.000000</td>\n",
       "      <td>0.000000</td>\n",
       "      <td>1.000000</td>\n",
       "      <td>0.170000</td>\n",
       "      <td>0.000000</td>\n",
       "      <td>0.000000</td>\n",
       "      <td>0.000000</td>\n",
       "    </tr>\n",
       "    <tr>\n",
       "      <th>25%</th>\n",
       "      <td>996.250000</td>\n",
       "      <td>0.000000</td>\n",
       "      <td>1.000000</td>\n",
       "      <td>21.000000</td>\n",
       "      <td>0.000000</td>\n",
       "      <td>0.000000</td>\n",
       "      <td>7.895800</td>\n",
       "    </tr>\n",
       "    <tr>\n",
       "      <th>50%</th>\n",
       "      <td>1100.500000</td>\n",
       "      <td>0.000000</td>\n",
       "      <td>3.000000</td>\n",
       "      <td>27.000000</td>\n",
       "      <td>0.000000</td>\n",
       "      <td>0.000000</td>\n",
       "      <td>14.454200</td>\n",
       "    </tr>\n",
       "    <tr>\n",
       "      <th>75%</th>\n",
       "      <td>1204.750000</td>\n",
       "      <td>1.000000</td>\n",
       "      <td>3.000000</td>\n",
       "      <td>39.000000</td>\n",
       "      <td>1.000000</td>\n",
       "      <td>0.000000</td>\n",
       "      <td>31.500000</td>\n",
       "    </tr>\n",
       "    <tr>\n",
       "      <th>max</th>\n",
       "      <td>1309.000000</td>\n",
       "      <td>1.000000</td>\n",
       "      <td>3.000000</td>\n",
       "      <td>76.000000</td>\n",
       "      <td>8.000000</td>\n",
       "      <td>9.000000</td>\n",
       "      <td>512.329200</td>\n",
       "    </tr>\n",
       "  </tbody>\n",
       "</table>\n",
       "</div>"
      ],
      "text/plain": [
       "       PassengerId    Survived      Pclass         Age       SibSp  \\\n",
       "count   418.000000  418.000000  418.000000  332.000000  418.000000   \n",
       "mean   1100.500000    0.363636    2.265550   30.272590    0.447368   \n",
       "std     120.810458    0.481622    0.841838   14.181209    0.896760   \n",
       "min     892.000000    0.000000    1.000000    0.170000    0.000000   \n",
       "25%     996.250000    0.000000    1.000000   21.000000    0.000000   \n",
       "50%    1100.500000    0.000000    3.000000   27.000000    0.000000   \n",
       "75%    1204.750000    1.000000    3.000000   39.000000    1.000000   \n",
       "max    1309.000000    1.000000    3.000000   76.000000    8.000000   \n",
       "\n",
       "            Parch        Fare  \n",
       "count  418.000000  417.000000  \n",
       "mean     0.392344   35.627188  \n",
       "std      0.981429   55.907576  \n",
       "min      0.000000    0.000000  \n",
       "25%      0.000000    7.895800  \n",
       "50%      0.000000   14.454200  \n",
       "75%      0.000000   31.500000  \n",
       "max      9.000000  512.329200  "
      ]
     },
     "execution_count": 4,
     "metadata": {},
     "output_type": "execute_result"
    }
   ],
   "source": [
    "data.describe()"
   ]
  },
  {
   "cell_type": "code",
   "execution_count": 5,
   "id": "85571c78-ba0e-4f2e-907f-d0cf73391377",
   "metadata": {},
   "outputs": [
    {
     "data": {
      "text/plain": [
       "np.int64(0)"
      ]
     },
     "execution_count": 5,
     "metadata": {},
     "output_type": "execute_result"
    }
   ],
   "source": [
    "data.duplicated().sum()"
   ]
  },
  {
   "cell_type": "code",
   "execution_count": 6,
   "id": "abd8cf4c-be87-465c-a532-13ca73a17717",
   "metadata": {},
   "outputs": [
    {
     "name": "stdout",
     "output_type": "stream",
     "text": [
      "<class 'pandas.core.frame.DataFrame'>\n",
      "RangeIndex: 418 entries, 0 to 417\n",
      "Data columns (total 12 columns):\n",
      " #   Column       Non-Null Count  Dtype  \n",
      "---  ------       --------------  -----  \n",
      " 0   PassengerId  418 non-null    int64  \n",
      " 1   Survived     418 non-null    int64  \n",
      " 2   Pclass       418 non-null    int64  \n",
      " 3   Name         418 non-null    object \n",
      " 4   Sex          418 non-null    object \n",
      " 5   Age          332 non-null    float64\n",
      " 6   SibSp        418 non-null    int64  \n",
      " 7   Parch        418 non-null    int64  \n",
      " 8   Ticket       418 non-null    object \n",
      " 9   Fare         417 non-null    float64\n",
      " 10  Cabin        91 non-null     object \n",
      " 11  Embarked     418 non-null    object \n",
      "dtypes: float64(2), int64(5), object(5)\n",
      "memory usage: 39.3+ KB\n"
     ]
    }
   ],
   "source": [
    "data.info()"
   ]
  },
  {
   "cell_type": "code",
   "execution_count": 7,
   "id": "add239ac-5f67-4811-9125-815535674ba2",
   "metadata": {},
   "outputs": [
    {
     "data": {
      "text/plain": [
       "PassengerId      0\n",
       "Survived         0\n",
       "Pclass           0\n",
       "Name             0\n",
       "Sex              0\n",
       "Age             86\n",
       "SibSp            0\n",
       "Parch            0\n",
       "Ticket           0\n",
       "Fare             1\n",
       "Cabin          327\n",
       "Embarked         0\n",
       "dtype: int64"
      ]
     },
     "execution_count": 7,
     "metadata": {},
     "output_type": "execute_result"
    }
   ],
   "source": [
    "data.isna().sum()"
   ]
  },
  {
   "cell_type": "code",
   "execution_count": 8,
   "id": "8cb6782f-e18d-4d1f-ba27-50fd7bffefa5",
   "metadata": {},
   "outputs": [],
   "source": [
    "# removing the null value\n",
    "data = data.dropna(subset=['Cabin'])\n"
   ]
  },
  {
   "cell_type": "code",
   "execution_count": 9,
   "id": "dd1290bc-acae-4804-8ffe-be6fe5523cef",
   "metadata": {},
   "outputs": [
    {
     "data": {
      "text/plain": [
       "PassengerId    0\n",
       "Survived       0\n",
       "Pclass         0\n",
       "Name           0\n",
       "Sex            0\n",
       "Age            4\n",
       "SibSp          0\n",
       "Parch          0\n",
       "Ticket         0\n",
       "Fare           0\n",
       "Cabin          0\n",
       "Embarked       0\n",
       "dtype: int64"
      ]
     },
     "execution_count": 9,
     "metadata": {},
     "output_type": "execute_result"
    }
   ],
   "source": [
    "# again checking the null value in the dataset\n",
    "data.isna().sum()"
   ]
  },
  {
   "cell_type": "code",
   "execution_count": 10,
   "id": "41de2cbb-9de3-4935-8110-85131e090db1",
   "metadata": {},
   "outputs": [],
   "source": [
    "# Fillin the missing the value of dataset\n",
    "data['Age'] = data['Age'].fillna(\"unknown\")"
   ]
  },
  {
   "cell_type": "code",
   "execution_count": 11,
   "id": "12b0bc91-cb45-42b5-b083-594b25089dcb",
   "metadata": {},
   "outputs": [
    {
     "data": {
      "text/plain": [
       "PassengerId    0\n",
       "Survived       0\n",
       "Pclass         0\n",
       "Name           0\n",
       "Sex            0\n",
       "Age            0\n",
       "SibSp          0\n",
       "Parch          0\n",
       "Ticket         0\n",
       "Fare           0\n",
       "Cabin          0\n",
       "Embarked       0\n",
       "dtype: int64"
      ]
     },
     "execution_count": 11,
     "metadata": {},
     "output_type": "execute_result"
    }
   ],
   "source": [
    "data.isna().sum()"
   ]
  },
  {
   "cell_type": "code",
   "execution_count": 12,
   "id": "8bd9632c-f6d7-48b9-8e48-0f0317b609b4",
   "metadata": {},
   "outputs": [
    {
     "name": "stdout",
     "output_type": "stream",
     "text": [
      "Categorical Features: Index(['Name', 'Sex', 'Age', 'Ticket', 'Cabin', 'Embarked'], dtype='object')\n"
     ]
    }
   ],
   "source": [
    "# finding the categorical value automatically in the dataset\n",
    "categorical_features = data.select_dtypes(include=['object']).columns\n",
    "print(\"Categorical Features:\", categorical_features)\n"
   ]
  },
  {
   "cell_type": "code",
   "execution_count": 13,
   "id": "105c878c-1a54-46fb-92e9-532351681a7b",
   "metadata": {},
   "outputs": [
    {
     "name": "stdout",
     "output_type": "stream",
     "text": [
      "Numerical Features: ['PassengerId', 'Survived', 'Pclass', 'SibSp', 'Parch', 'Fare']\n"
     ]
    }
   ],
   "source": [
    "# Finding the numerical Feature in the dataset\n",
    "numerical_features = data.select_dtypes(include=['int64', 'float64']).columns\n",
    "print(\"Numerical Features:\", numerical_features.tolist())  # Convert to list for better readability\n"
   ]
  },
  {
   "cell_type": "code",
   "execution_count": 15,
   "id": "1c8a6011-8668-4550-9fd2-5e38f5cb8578",
   "metadata": {},
   "outputs": [
    {
     "name": "stderr",
     "output_type": "stream",
     "text": [
      "[nltk_data] Downloading package punkt to /usr/local/nltk_data...\n",
      "[nltk_data]   Unzipping tokenizers\\punkt.zip.\n"
     ]
    },
    {
     "data": {
      "text/plain": [
       "True"
      ]
     },
     "execution_count": 15,
     "metadata": {},
     "output_type": "execute_result"
    }
   ],
   "source": [
    "nltk.download('punkt', download_dir='/usr/local/nltk_data')\n"
   ]
  },
  {
   "cell_type": "code",
   "execution_count": 17,
   "id": "ff4eacd9-2788-4ef6-b8e7-b6e4f90c66de",
   "metadata": {},
   "outputs": [
    {
     "name": "stdout",
     "output_type": "stream",
     "text": [
      "                                                 Name  \\\n",
      "12      Snyder, Mrs. John Pillsbury (Nelle Stevenson)   \n",
      "14  Chaffee, Mrs. Herbert Fuller (Carrie Constance...   \n",
      "24    Ryerson, Mrs. Arthur Larned (Emily Maria Borie)   \n",
      "26                       Ostby, Miss. Helene Ragnhild   \n",
      "28                            Brady, Mr. John Bertram   \n",
      "\n",
      "                                          Name_Tokens  \n",
      "12  [Snyder, ,, Mrs., John, Pillsbury, (, Nelle, S...  \n",
      "14  [Chaffee, ,, Mrs., Herbert, Fuller, (, Carrie,...  \n",
      "24  [Ryerson, ,, Mrs., Arthur, Larned, (, Emily, M...  \n",
      "26              [Ostby, ,, Miss, ., Helene, Ragnhild]  \n",
      "28                     [Brady, ,, Mr., John, Bertram]  \n"
     ]
    },
    {
     "name": "stderr",
     "output_type": "stream",
     "text": [
      "[nltk_data] Downloading package punkt to\n",
      "[nltk_data]     C:\\Users\\asus\\AppData\\Roaming\\nltk_data...\n",
      "[nltk_data]   Package punkt is already up-to-date!\n"
     ]
    }
   ],
   "source": [
    "import nltk\n",
    "from nltk.tokenize import word_tokenize\n",
    "\n",
    "nltk.download('punkt')\n",
    "\n",
    "# Tokenizing the \"Name\" column\n",
    "data[\"Name_Tokens\"] = data[\"Name\"].apply(lambda x: word_tokenize(x))\n",
    "print(data[[\"Name\", \"Name_Tokens\"]].head())\n"
   ]
  },
  {
   "cell_type": "code",
   "execution_count": 18,
   "id": "2878a871-528b-4cd9-9a37-abbff0e3048f",
   "metadata": {},
   "outputs": [
    {
     "name": "stderr",
     "output_type": "stream",
     "text": [
      "[nltk_data] Downloading package wordnet to\n",
      "[nltk_data]     C:\\Users\\asus\\AppData\\Roaming\\nltk_data...\n"
     ]
    },
    {
     "data": {
      "text/plain": [
       "True"
      ]
     },
     "execution_count": 18,
     "metadata": {},
     "output_type": "execute_result"
    }
   ],
   "source": [
    "nltk.download('wordnet')"
   ]
  },
  {
   "cell_type": "code",
   "execution_count": 19,
   "id": "6b4c8fc7-cb20-4a1c-9aba-668eb35b70a4",
   "metadata": {},
   "outputs": [
    {
     "name": "stdout",
     "output_type": "stream",
     "text": [
      "                                                 Name  \\\n",
      "12      Snyder, Mrs. John Pillsbury (Nelle Stevenson)   \n",
      "14  Chaffee, Mrs. Herbert Fuller (Carrie Constance...   \n",
      "24    Ryerson, Mrs. Arthur Larned (Emily Maria Borie)   \n",
      "26                       Ostby, Miss. Helene Ragnhild   \n",
      "28                            Brady, Mr. John Bertram   \n",
      "\n",
      "                                           Name_Lemma  \n",
      "12   Snyder , Mrs. John Pillsbury ( Nelle Stevenson )  \n",
      "14  Chaffee , Mrs. Herbert Fuller ( Carrie Constan...  \n",
      "24  Ryerson , Mrs. Arthur Larned ( Emily Maria Bor...  \n",
      "26                     Ostby , Miss . Helene Ragnhild  \n",
      "28                           Brady , Mr. John Bertram  \n"
     ]
    }
   ],
   "source": [
    "from nltk.stem import WordNetLemmatizer\n",
    "from nltk.tokenize import word_tokenize\n",
    "import nltk\n",
    "\n",
    "lemmatizer = WordNetLemmatizer()\n",
    "\n",
    "# Apply lemmatization to \"Name\" column\n",
    "data[\"Name_Lemma\"] = data[\"Name\"].apply(lambda x: \" \".join([lemmatizer.lemmatize(word) for word in word_tokenize(x)]))\n",
    "print(data[[\"Name\", \"Name_Lemma\"]].head())\n"
   ]
  },
  {
   "cell_type": "code",
   "execution_count": 21,
   "id": "30afeffb-8ca7-4a75-b0df-6b260a078f90",
   "metadata": {},
   "outputs": [
    {
     "name": "stdout",
     "output_type": "stream",
     "text": [
      "              Cabin  Cabin_Freq\n",
      "12              B45           2\n",
      "14              E31           1\n",
      "24  B57 B59 B63 B66           3\n",
      "26              B36           1\n",
      "28              A21           1\n"
     ]
    }
   ],
   "source": [
    "# Frequency encoding for \"Cabin\" feature\n",
    "cabin_freq = data[\"Cabin\"].value_counts().to_dict()\n",
    "data[\"Cabin_Freq\"] = data[\"Cabin\"].map(cabin_freq)\n",
    "\n",
    "print(data[[\"Cabin\", \"Cabin_Freq\"]].head())\n"
   ]
  },
  {
   "cell_type": "code",
   "execution_count": 22,
   "id": "ea6f84f0-e544-4734-bf48-efa7c9469c95",
   "metadata": {},
   "outputs": [
    {
     "name": "stdout",
     "output_type": "stream",
     "text": [
      "         Ticket  Ticket_Encoded\n",
      "12        21228             0.5\n",
      "14  W.E.P. 5734             1.0\n",
      "24     PC 17608             0.5\n",
      "26       113509             1.0\n",
      "28       113054             0.0\n"
     ]
    }
   ],
   "source": [
    "# Encode \"Ticket\" based on survival rates\n",
    "ticket_encoding = data.groupby(\"Ticket\")[\"Survived\"].mean()\n",
    "data[\"Ticket_Encoded\"] = data[\"Ticket\"].map(ticket_encoding)\n",
    "\n",
    "print(data[[\"Ticket\", \"Ticket_Encoded\"]].head())\n"
   ]
  },
  {
   "cell_type": "code",
   "execution_count": 23,
   "id": "4a435fcc-f3de-434f-aba1-0de65af6e850",
   "metadata": {},
   "outputs": [
    {
     "name": "stdout",
     "output_type": "stream",
     "text": [
      "    Sex  Embarked\n",
      "12    0         2\n",
      "14    0         2\n",
      "24    0         0\n",
      "26    0         0\n",
      "28    1         2\n"
     ]
    }
   ],
   "source": [
    "# Mapping 'Sex' column manually\n",
    "data[\"Sex\"] = data[\"Sex\"].map({\"male\": 1, \"female\": 0})\n",
    "\n",
    "# Mapping 'Embarked' column manually\n",
    "data[\"Embarked\"] = data[\"Embarked\"].map({\"C\": 0, \"Q\": 1, \"S\": 2})\n",
    "\n",
    "print(data[[\"Sex\", \"Embarked\"]].head())\n"
   ]
  },
  {
   "cell_type": "code",
   "execution_count": 24,
   "id": "d877a98a-110b-4743-b0b0-eadb521f2c98",
   "metadata": {},
   "outputs": [
    {
     "name": "stdout",
     "output_type": "stream",
     "text": [
      "    Sex\n",
      "12    0\n",
      "14    0\n",
      "24    0\n",
      "26    0\n",
      "28    1\n"
     ]
    }
   ],
   "source": [
    "from sklearn.preprocessing import LabelEncoder\n",
    "\n",
    "# Initialize LabelEncoder\n",
    "label_encoder = LabelEncoder()\n",
    "\n",
    "# Example: Encoding \"Sex\" (Male = 1, Female = 0)\n",
    "data[\"Sex\"] = label_encoder.fit_transform(data[\"Sex\"])\n",
    "\n",
    "print(data[[\"Sex\"]].head())\n"
   ]
  },
  {
   "cell_type": "markdown",
   "id": "0d3c49dc-597e-4d66-a647-c9d96c4f08f7",
   "metadata": {},
   "source": [
    "# Visualizing the dataset"
   ]
  },
  {
   "cell_type": "code",
   "execution_count": 27,
   "id": "f20139d8-1707-4225-aab2-83b949583d57",
   "metadata": {},
   "outputs": [
    {
     "data": {
      "image/png": "[encoded data removed]",
      "text/plain": [
       "<Figure size 640x480 with 1 Axes>"
      ]
     },
     "metadata": {},
     "output_type": "display_data"
    }
   ],
   "source": [
    "# Bar plot for survival rates\n",
    "sns.countplot(x='Survived', data=data)\n",
    "plt.title('Survival Count')\n",
    "plt.xlabel('Survived (0 = No, 1 = Yes)')\n",
    "plt.ylabel('Count')\n",
    "plt.show()\n"
   ]
  },
  {
   "cell_type": "code",
   "execution_count": 31,
   "id": "11642d58-a0b8-4265-ab24-5b8278078072",
   "metadata": {},
   "outputs": [
    {
     "data": {
      "image/png": "[encoded data removed]",
      "text/plain": [
       "<Figure size 640x480 with 1 Axes>"
      ]
     },
     "metadata": {},
     "output_type": "display_data"
    }
   ],
   "source": [
    "# Count plot for Passenger Class\n",
    "sns.countplot(x='Pclass', data=data)\n",
    "plt.title('Passenger Class Distribution')\n",
    "plt.xlabel('Pclass')\n",
    "plt.ylabel('Count')\n",
    "plt.show()\n"
   ]
  },
  {
   "cell_type": "code",
   "execution_count": 32,
   "id": "03b1c2a9-6c1f-42cb-b733-095fe4361bcd",
   "metadata": {},
   "outputs": [
    {
     "data": {
      "image/png": "[encoded data removed]",
      "text/plain": [
       "<Figure size 640x480 with 1 Axes>"
      ]
     },
     "metadata": {},
     "output_type": "display_data"
    }
   ],
   "source": [
    "# Count plot for survival by gender\n",
    "sns.countplot(x='Survived', hue='Sex', data=data)\n",
    "plt.title('Survival by Gender')\n",
    "plt.xlabel('Survived (0 = No, 1 = Yes)')\n",
    "plt.ylabel('Count')\n",
    "plt.show()\n"
   ]
  },
  {
   "cell_type": "code",
   "execution_count": 33,
   "id": "19955f64-d464-4f52-a2bc-806811d84888",
   "metadata": {},
   "outputs": [
    {
     "data": {
      "image/png": "[encoded data removed]",
      "text/plain": [
       "<Figure size 640x480 with 1 Axes>"
      ]
     },
     "metadata": {},
     "output_type": "display_data"
    }
   ],
   "source": [
    "# Count plot for survival by Passenger Class\n",
    "sns.countplot(x='Survived', hue='Pclass', data=data)\n",
    "plt.title('Survival by Passenger Class')\n",
    "plt.xlabel('Survived (0 = No, 1 = Yes)')\n",
    "plt.ylabel('Count')\n",
    "plt.show()\n"
   ]
  },
  {
   "cell_type": "code",
   "execution_count": 35,
   "id": "39527cc1-507c-47ed-a473-1283d780d5d5",
   "metadata": {},
   "outputs": [
    {
     "data": {
      "image/png": "[encoded data removed]",
      "text/plain": [
       "<Figure size 640x480 with 1 Axes>"
      ]
     },
     "metadata": {},
     "output_type": "display_data"
    }
   ],
   "source": [
    "# Heatmap for missing values\n",
    "sns.heatmap(data.isnull(), cbar=False, cmap='viridis')\n",
    "plt.title('Missing Data Heatmap')\n",
    "plt.show()\n"
   ]
  },
  {
   "cell_type": "code",
   "execution_count": 37,
   "id": "e9b29883-71c0-4d24-ae23-8b95afa5ca42",
   "metadata": {},
   "outputs": [
    {
     "name": "stdout",
     "output_type": "stream",
     "text": [
      "    PassengerId  Survived  Pclass  \\\n",
      "12        904.0       1.0     1.0   \n",
      "14        906.0       1.0     1.0   \n",
      "24        916.0       1.0     1.0   \n",
      "26        918.0       1.0     1.0   \n",
      "28        920.0       0.0     1.0   \n",
      "\n",
      "                                                 Name  Sex   Age  SibSp  \\\n",
      "12      Snyder, Mrs. John Pillsbury (Nelle Stevenson)  0.0  23.0    1.0   \n",
      "14  Chaffee, Mrs. Herbert Fuller (Carrie Constance...  0.0  47.0    1.0   \n",
      "24    Ryerson, Mrs. Arthur Larned (Emily Maria Borie)  0.0  48.0    1.0   \n",
      "26                       Ostby, Miss. Helene Ragnhild  0.0  22.0    0.0   \n",
      "28                            Brady, Mr. John Bertram  1.0  41.0    0.0   \n",
      "\n",
      "    Parch       Ticket      Fare  ...   charles  edward george     henry  \\\n",
      "12    0.0        21228   82.2667  ...  0.000000     0.0    0.0  0.000000   \n",
      "14    0.0  W.E.P. 5734   61.1750  ...  0.000000     0.0    0.0  0.000000   \n",
      "24    3.0     PC 17608  262.3750  ...  0.664019     0.0    0.0  0.664019   \n",
      "26    1.0       113509   61.9792  ...  0.000000     0.0    0.0  0.000000   \n",
      "28    0.0       113054   30.5000  ...  0.000000     0.0    0.0  0.000000   \n",
      "\n",
      "    john  mary  miss   mr       mrs  william  \n",
      "12   0.0   0.0   0.0  1.0  0.000000      0.0  \n",
      "14   1.0   0.0   0.0  0.0  0.000000      0.0  \n",
      "24   0.0   0.0   0.0  0.0  0.343739      0.0  \n",
      "26   0.0   0.0   1.0  0.0  0.000000      0.0  \n",
      "28   0.0   0.0   1.0  0.0  0.000000      0.0  \n",
      "\n",
      "[5 rows x 26 columns]\n"
     ]
    }
   ],
   "source": [
    "from sklearn.feature_extraction.text import TfidfVectorizer\n",
    "\n",
    "# Initialize the TfidfVectorizer\n",
    "vectorizer = TfidfVectorizer(max_features=10)  # Use a limited number of features for simplicity\n",
    "\n",
    "# Apply vectorization on the Name column\n",
    "name_vectorized = vectorizer.fit_transform(data['Name'])\n",
    "\n",
    "# Convert the result to a DataFrame\n",
    "name_df = pd.DataFrame(name_vectorized.toarray(), columns=vectorizer.get_feature_names_out())\n",
    "\n",
    "# Concatenate the new features with the original dataset\n",
    "data = pd.concat([data, name_df], axis=1)\n",
    "\n",
    "# Display the updated dataset\n",
    "print(data.head())\n"
   ]
  },
  {
   "cell_type": "code",
   "execution_count": 40,
   "id": "aefc5b7e-df2f-4739-9b19-07797e13067b",
   "metadata": {},
   "outputs": [
    {
     "name": "stdout",
     "output_type": "stream",
     "text": [
      "    PassengerId  Survived  Pclass  Sex   Age  SibSp  Parch       Ticket  \\\n",
      "12        904.0       1.0     1.0  0.0  23.0    1.0    0.0        21228   \n",
      "14        906.0       1.0     1.0  0.0  47.0    1.0    0.0  W.E.P. 5734   \n",
      "24        916.0       1.0     1.0  0.0  48.0    1.0    3.0     PC 17608   \n",
      "26        918.0       1.0     1.0  0.0  22.0    0.0    1.0       113509   \n",
      "28        920.0       0.0     1.0  1.0  41.0    0.0    0.0       113054   \n",
      "\n",
      "        Fare            Cabin  ...  \\\n",
      "12   82.2667              B45  ...   \n",
      "14   61.1750              E31  ...   \n",
      "24  262.3750  B57 B59 B63 B66  ...   \n",
      "26   61.9792              B36  ...   \n",
      "28   30.5000              A21  ...   \n",
      "\n",
      "    Name_Stengel, Mrs. Charles Emil Henry (Annie May Morris)  \\\n",
      "12                                              False          \n",
      "14                                              False          \n",
      "24                                              False          \n",
      "26                                              False          \n",
      "28                                              False          \n",
      "\n",
      "   Name_Straus, Mr. Isidor Name_Straus, Mrs. Isidor (Rosalie Ida Blun)  \\\n",
      "12                   False                                       False   \n",
      "14                   False                                       False   \n",
      "24                   False                                       False   \n",
      "26                   False                                       False   \n",
      "28                   False                                       False   \n",
      "\n",
      "    Name_Swane, Mr. George  Name_Tucker, Mr. Gilbert Milligan Jr  \\\n",
      "12                   False                                 False   \n",
      "14                   False                                 False   \n",
      "24                   False                                 False   \n",
      "26                   False                                 False   \n",
      "28                   False                                 False   \n",
      "\n",
      "    Name_Warren, Mr. Frank Manley  Name_White, Mrs. John Stuart (Ella Holmes)  \\\n",
      "12                          False                                       False   \n",
      "14                          False                                       False   \n",
      "24                          False                                       False   \n",
      "26                          False                                       False   \n",
      "28                          False                                       False   \n",
      "\n",
      "    Name_Widener, Mr. George Dunton  \\\n",
      "12                            False   \n",
      "14                            False   \n",
      "24                            False   \n",
      "26                            False   \n",
      "28                            False   \n",
      "\n",
      "    Name_Widener, Mrs. George Dunton (Eleanor Elkins)  \\\n",
      "12                                              False   \n",
      "14                                              False   \n",
      "24                                              False   \n",
      "26                                              False   \n",
      "28                                              False   \n",
      "\n",
      "    Name_Wilson, Miss. Helen Alice  \n",
      "12                           False  \n",
      "14                           False  \n",
      "24                           False  \n",
      "26                           False  \n",
      "28                           False  \n",
      "\n",
      "[5 rows x 115 columns]\n"
     ]
    }
   ],
   "source": [
    "# One-hot encoding the Title column\n",
    "data = pd.get_dummies(data, columns=['Name'], drop_first=True)\n",
    "\n",
    "# Display the updated dataset\n",
    "print(data.head())\n"
   ]
  },
  {
   "cell_type": "code",
   "execution_count": 44,
   "id": "17a8335b-cc48-4894-a420-a61c3e68ea34",
   "metadata": {},
   "outputs": [
    {
     "name": "stdout",
     "output_type": "stream",
     "text": [
      "    PassengerId  Survived  Pclass  Sex   Age  SibSp  Parch       Ticket  \\\n",
      "12        904.0       1.0     1.0  0.0  23.0    1.0    0.0        21228   \n",
      "14        906.0       1.0     1.0  0.0  47.0    1.0    0.0  W.E.P. 5734   \n",
      "24        916.0       1.0     1.0  0.0  48.0    1.0    3.0     PC 17608   \n",
      "26        918.0       1.0     1.0  0.0  22.0    0.0    1.0       113509   \n",
      "28        920.0       0.0     1.0  1.0  41.0    0.0    0.0       113054   \n",
      "\n",
      "        Fare            Cabin  ...  \\\n",
      "12   82.2667              B45  ...   \n",
      "14   61.1750              E31  ...   \n",
      "24  262.3750  B57 B59 B63 B66  ...   \n",
      "26   61.9792              B36  ...   \n",
      "28   30.5000              A21  ...   \n",
      "\n",
      "    Name_Stengel, Mrs. Charles Emil Henry (Annie May Morris)  \\\n",
      "12                                                  0          \n",
      "14                                                  0          \n",
      "24                                                  0          \n",
      "26                                                  0          \n",
      "28                                                  0          \n",
      "\n",
      "   Name_Straus, Mr. Isidor Name_Straus, Mrs. Isidor (Rosalie Ida Blun)  \\\n",
      "12                       0                                           0   \n",
      "14                       0                                           0   \n",
      "24                       0                                           0   \n",
      "26                       0                                           0   \n",
      "28                       0                                           0   \n",
      "\n",
      "    Name_Swane, Mr. George  Name_Tucker, Mr. Gilbert Milligan Jr  \\\n",
      "12                       0                                     0   \n",
      "14                       0                                     0   \n",
      "24                       0                                     0   \n",
      "26                       0                                     0   \n",
      "28                       0                                     0   \n",
      "\n",
      "    Name_Warren, Mr. Frank Manley  Name_White, Mrs. John Stuart (Ella Holmes)  \\\n",
      "12                              0                                           0   \n",
      "14                              0                                           0   \n",
      "24                              0                                           0   \n",
      "26                              0                                           0   \n",
      "28                              0                                           0   \n",
      "\n",
      "    Name_Widener, Mr. George Dunton  \\\n",
      "12                                0   \n",
      "14                                0   \n",
      "24                                0   \n",
      "26                                0   \n",
      "28                                0   \n",
      "\n",
      "    Name_Widener, Mrs. George Dunton (Eleanor Elkins)  \\\n",
      "12                                                  0   \n",
      "14                                                  0   \n",
      "24                                                  0   \n",
      "26                                                  0   \n",
      "28                                                  0   \n",
      "\n",
      "    Name_Wilson, Miss. Helen Alice  \n",
      "12                               0  \n",
      "14                               0  \n",
      "24                               0  \n",
      "26                               0  \n",
      "28                               0  \n",
      "\n",
      "[5 rows x 115 columns]\n"
     ]
    }
   ],
   "source": [
    "# Convert all boolean columns to integers\n",
    "data = data.apply(lambda x: x.astype(int) if x.dtype == 'bool' else x)\n",
    "\n",
    "# Display the updated dataset\n",
    "print(data.head())\n"
   ]
  },
  {
   "cell_type": "code",
   "execution_count": 46,
   "id": "8ad99cb8-82da-4c66-a23e-7d017a100f6b",
   "metadata": {},
   "outputs": [
    {
     "name": "stdout",
     "output_type": "stream",
     "text": [
      "Index(['Age', 'Ticket', 'Cabin', 'Name_Tokens', 'Name_Lemma'], dtype='object')\n"
     ]
    }
   ],
   "source": [
    "# Identify columns with non-numeric data types\n",
    "non_numeric_columns = data.select_dtypes(exclude=['number']).columns\n",
    "print(non_numeric_columns)\n"
   ]
  },
  {
   "cell_type": "code",
   "execution_count": 49,
   "id": "08eedac7-a79c-4af9-b6f3-c1e4cf46a6e9",
   "metadata": {},
   "outputs": [
    {
     "name": "stdout",
     "output_type": "stream",
     "text": [
      "    PassengerId  Survived  Pclass  Sex   Age  SibSp  Parch       Ticket  \\\n",
      "12        904.0       1.0     1.0  0.0  23.0    1.0    0.0        21228   \n",
      "14        906.0       1.0     1.0  0.0  47.0    1.0    0.0  W.E.P. 5734   \n",
      "24        916.0       1.0     1.0  0.0  48.0    1.0    3.0     PC 17608   \n",
      "26        918.0       1.0     1.0  0.0  22.0    0.0    1.0       113509   \n",
      "28        920.0       0.0     1.0  1.0  41.0    0.0    0.0       113054   \n",
      "..          ...       ...     ...  ...   ...    ...    ...          ...   \n",
      "86          NaN       NaN     NaN  NaN   NaN    NaN    NaN          NaN   \n",
      "87          NaN       NaN     NaN  NaN   NaN    NaN    NaN          NaN   \n",
      "88          NaN       NaN     NaN  NaN   NaN    NaN    NaN          NaN   \n",
      "89          NaN       NaN     NaN  NaN   NaN    NaN    NaN          NaN   \n",
      "90          NaN       NaN     NaN  NaN   NaN    NaN    NaN          NaN   \n",
      "\n",
      "        Fare            Cabin  ...  \\\n",
      "12   82.2667              B45  ...   \n",
      "14   61.1750              E31  ...   \n",
      "24  262.3750  B57 B59 B63 B66  ...   \n",
      "26   61.9792              B36  ...   \n",
      "28   30.5000              A21  ...   \n",
      "..       ...              ...  ...   \n",
      "86       NaN              NaN  ...   \n",
      "87       NaN              NaN  ...   \n",
      "88       NaN              NaN  ...   \n",
      "89       NaN              NaN  ...   \n",
      "90       NaN              NaN  ...   \n",
      "\n",
      "    Name_Stengel, Mrs. Charles Emil Henry (Annie May Morris)  \\\n",
      "12                                                  0          \n",
      "14                                                  0          \n",
      "24                                                  0          \n",
      "26                                                  0          \n",
      "28                                                  0          \n",
      "..                                                ...          \n",
      "86                                                  0          \n",
      "87                                                  0          \n",
      "88                                                  0          \n",
      "89                                                  0          \n",
      "90                                                  0          \n",
      "\n",
      "   Name_Straus, Mr. Isidor Name_Straus, Mrs. Isidor (Rosalie Ida Blun)  \\\n",
      "12                       0                                           0   \n",
      "14                       0                                           0   \n",
      "24                       0                                           0   \n",
      "26                       0                                           0   \n",
      "28                       0                                           0   \n",
      "..                     ...                                         ...   \n",
      "86                       0                                           0   \n",
      "87                       0                                           0   \n",
      "88                       0                                           0   \n",
      "89                       0                                           0   \n",
      "90                       0                                           0   \n",
      "\n",
      "    Name_Swane, Mr. George  Name_Tucker, Mr. Gilbert Milligan Jr  \\\n",
      "12                       0                                     0   \n",
      "14                       0                                     0   \n",
      "24                       0                                     0   \n",
      "26                       0                                     0   \n",
      "28                       0                                     0   \n",
      "..                     ...                                   ...   \n",
      "86                       0                                     0   \n",
      "87                       0                                     0   \n",
      "88                       0                                     0   \n",
      "89                       0                                     0   \n",
      "90                       0                                     0   \n",
      "\n",
      "    Name_Warren, Mr. Frank Manley  Name_White, Mrs. John Stuart (Ella Holmes)  \\\n",
      "12                              0                                           0   \n",
      "14                              0                                           0   \n",
      "24                              0                                           0   \n",
      "26                              0                                           0   \n",
      "28                              0                                           0   \n",
      "..                            ...                                         ...   \n",
      "86                              0                                           0   \n",
      "87                              0                                           0   \n",
      "88                              0                                           0   \n",
      "89                              0                                           0   \n",
      "90                              0                                           0   \n",
      "\n",
      "    Name_Widener, Mr. George Dunton  \\\n",
      "12                                0   \n",
      "14                                0   \n",
      "24                                0   \n",
      "26                                0   \n",
      "28                                0   \n",
      "..                              ...   \n",
      "86                                0   \n",
      "87                                0   \n",
      "88                                0   \n",
      "89                                0   \n",
      "90                                0   \n",
      "\n",
      "    Name_Widener, Mrs. George Dunton (Eleanor Elkins)  \\\n",
      "12                                                  0   \n",
      "14                                                  0   \n",
      "24                                                  0   \n",
      "26                                                  0   \n",
      "28                                                  0   \n",
      "..                                                ...   \n",
      "86                                                  0   \n",
      "87                                                  0   \n",
      "88                                                  0   \n",
      "89                                                  0   \n",
      "90                                                  0   \n",
      "\n",
      "    Name_Wilson, Miss. Helen Alice  \n",
      "12                               0  \n",
      "14                               0  \n",
      "24                               0  \n",
      "26                               0  \n",
      "28                               0  \n",
      "..                             ...  \n",
      "86                               0  \n",
      "87                               0  \n",
      "88                               0  \n",
      "89                               0  \n",
      "90                               0  \n",
      "\n",
      "[160 rows x 115 columns]\n"
     ]
    }
   ],
   "source": [
    "print(data)"
   ]
  },
  {
   "cell_type": "code",
   "execution_count": 50,
   "id": "6e47a4fc-d797-4f3f-9f5e-d3440ef14203",
   "metadata": {},
   "outputs": [
    {
     "data": {
      "text/plain": [
       "PassengerId                                          69\n",
       "Survived                                             69\n",
       "Pclass                                               69\n",
       "Sex                                                  69\n",
       "Age                                                  73\n",
       "                                                     ..\n",
       "Name_Warren, Mr. Frank Manley                         0\n",
       "Name_White, Mrs. John Stuart (Ella Holmes)            0\n",
       "Name_Widener, Mr. George Dunton                       0\n",
       "Name_Widener, Mrs. George Dunton (Eleanor Elkins)     0\n",
       "Name_Wilson, Miss. Helen Alice                        0\n",
       "Length: 115, dtype: int64"
      ]
     },
     "execution_count": 50,
     "metadata": {},
     "output_type": "execute_result"
    }
   ],
   "source": [
    "data.isna().sum()"
   ]
  },
  {
   "cell_type": "code",
   "execution_count": 52,
   "id": "f4bcbcfd-9b46-4345-aac0-53f8b0271935",
   "metadata": {},
   "outputs": [],
   "source": [
    "data = data.dropna(subset=['PassengerId', 'Survived', 'Pclass', 'Sex', 'Age'])"
   ]
  },
  {
   "cell_type": "code",
   "execution_count": 53,
   "id": "5577fbd7-dc66-41d5-b45b-32c7d6d7e1c6",
   "metadata": {},
   "outputs": [
    {
     "data": {
      "text/plain": [
       "PassengerId                                          0\n",
       "Survived                                             0\n",
       "Pclass                                               0\n",
       "Sex                                                  0\n",
       "Age                                                  0\n",
       "                                                    ..\n",
       "Name_Warren, Mr. Frank Manley                        0\n",
       "Name_White, Mrs. John Stuart (Ella Holmes)           0\n",
       "Name_Widener, Mr. George Dunton                      0\n",
       "Name_Widener, Mrs. George Dunton (Eleanor Elkins)    0\n",
       "Name_Wilson, Miss. Helen Alice                       0\n",
       "Length: 115, dtype: int64"
      ]
     },
     "execution_count": 53,
     "metadata": {},
     "output_type": "execute_result"
    }
   ],
   "source": [
    "data.isna().sum()"
   ]
  },
  {
   "cell_type": "code",
   "execution_count": 59,
   "id": "f7e5c6df-82c6-4616-b42c-02beba0e7a79",
   "metadata": {},
   "outputs": [
    {
     "data": {
      "text/html": [
       "<div>\n",
       "<style scoped>\n",
       "    .dataframe tbody tr th:only-of-type {\n",
       "        vertical-align: middle;\n",
       "    }\n",
       "\n",
       "    .dataframe tbody tr th {\n",
       "        vertical-align: top;\n",
       "    }\n",
       "\n",
       "    .dataframe thead th {\n",
       "        text-align: right;\n",
       "    }\n",
       "</style>\n",
       "<table border=\"1\" class=\"dataframe\">\n",
       "  <thead>\n",
       "    <tr style=\"text-align: right;\">\n",
       "      <th></th>\n",
       "      <th>PassengerId</th>\n",
       "      <th>Survived</th>\n",
       "      <th>Pclass</th>\n",
       "      <th>Sex</th>\n",
       "      <th>Age</th>\n",
       "      <th>SibSp</th>\n",
       "      <th>Parch</th>\n",
       "      <th>Ticket</th>\n",
       "      <th>Fare</th>\n",
       "      <th>Cabin</th>\n",
       "      <th>...</th>\n",
       "      <th>Name_Stengel, Mrs. Charles Emil Henry (Annie May Morris)</th>\n",
       "      <th>Name_Straus, Mr. Isidor</th>\n",
       "      <th>Name_Straus, Mrs. Isidor (Rosalie Ida Blun)</th>\n",
       "      <th>Name_Swane, Mr. George</th>\n",
       "      <th>Name_Tucker, Mr. Gilbert Milligan Jr</th>\n",
       "      <th>Name_Warren, Mr. Frank Manley</th>\n",
       "      <th>Name_White, Mrs. John Stuart (Ella Holmes)</th>\n",
       "      <th>Name_Widener, Mr. George Dunton</th>\n",
       "      <th>Name_Widener, Mrs. George Dunton (Eleanor Elkins)</th>\n",
       "      <th>Name_Wilson, Miss. Helen Alice</th>\n",
       "    </tr>\n",
       "  </thead>\n",
       "  <tbody>\n",
       "    <tr>\n",
       "      <th>12</th>\n",
       "      <td>904.0</td>\n",
       "      <td>1.0</td>\n",
       "      <td>1.0</td>\n",
       "      <td>0.0</td>\n",
       "      <td>23.0</td>\n",
       "      <td>1.0</td>\n",
       "      <td>0.0</td>\n",
       "      <td>21228</td>\n",
       "      <td>82.2667</td>\n",
       "      <td>B45</td>\n",
       "      <td>...</td>\n",
       "      <td>0</td>\n",
       "      <td>0</td>\n",
       "      <td>0</td>\n",
       "      <td>0</td>\n",
       "      <td>0</td>\n",
       "      <td>0</td>\n",
       "      <td>0</td>\n",
       "      <td>0</td>\n",
       "      <td>0</td>\n",
       "      <td>0</td>\n",
       "    </tr>\n",
       "    <tr>\n",
       "      <th>14</th>\n",
       "      <td>906.0</td>\n",
       "      <td>1.0</td>\n",
       "      <td>1.0</td>\n",
       "      <td>0.0</td>\n",
       "      <td>47.0</td>\n",
       "      <td>1.0</td>\n",
       "      <td>0.0</td>\n",
       "      <td>W.E.P. 5734</td>\n",
       "      <td>61.1750</td>\n",
       "      <td>E31</td>\n",
       "      <td>...</td>\n",
       "      <td>0</td>\n",
       "      <td>0</td>\n",
       "      <td>0</td>\n",
       "      <td>0</td>\n",
       "      <td>0</td>\n",
       "      <td>0</td>\n",
       "      <td>0</td>\n",
       "      <td>0</td>\n",
       "      <td>0</td>\n",
       "      <td>0</td>\n",
       "    </tr>\n",
       "    <tr>\n",
       "      <th>24</th>\n",
       "      <td>916.0</td>\n",
       "      <td>1.0</td>\n",
       "      <td>1.0</td>\n",
       "      <td>0.0</td>\n",
       "      <td>48.0</td>\n",
       "      <td>1.0</td>\n",
       "      <td>3.0</td>\n",
       "      <td>PC 17608</td>\n",
       "      <td>262.3750</td>\n",
       "      <td>B57 B59 B63 B66</td>\n",
       "      <td>...</td>\n",
       "      <td>0</td>\n",
       "      <td>0</td>\n",
       "      <td>0</td>\n",
       "      <td>0</td>\n",
       "      <td>0</td>\n",
       "      <td>0</td>\n",
       "      <td>0</td>\n",
       "      <td>0</td>\n",
       "      <td>0</td>\n",
       "      <td>0</td>\n",
       "    </tr>\n",
       "    <tr>\n",
       "      <th>26</th>\n",
       "      <td>918.0</td>\n",
       "      <td>1.0</td>\n",
       "      <td>1.0</td>\n",
       "      <td>0.0</td>\n",
       "      <td>22.0</td>\n",
       "      <td>0.0</td>\n",
       "      <td>1.0</td>\n",
       "      <td>113509</td>\n",
       "      <td>61.9792</td>\n",
       "      <td>B36</td>\n",
       "      <td>...</td>\n",
       "      <td>0</td>\n",
       "      <td>0</td>\n",
       "      <td>0</td>\n",
       "      <td>0</td>\n",
       "      <td>0</td>\n",
       "      <td>0</td>\n",
       "      <td>0</td>\n",
       "      <td>0</td>\n",
       "      <td>0</td>\n",
       "      <td>0</td>\n",
       "    </tr>\n",
       "    <tr>\n",
       "      <th>28</th>\n",
       "      <td>920.0</td>\n",
       "      <td>0.0</td>\n",
       "      <td>1.0</td>\n",
       "      <td>1.0</td>\n",
       "      <td>41.0</td>\n",
       "      <td>0.0</td>\n",
       "      <td>0.0</td>\n",
       "      <td>113054</td>\n",
       "      <td>30.5000</td>\n",
       "      <td>A21</td>\n",
       "      <td>...</td>\n",
       "      <td>0</td>\n",
       "      <td>0</td>\n",
       "      <td>0</td>\n",
       "      <td>0</td>\n",
       "      <td>0</td>\n",
       "      <td>0</td>\n",
       "      <td>0</td>\n",
       "      <td>0</td>\n",
       "      <td>0</td>\n",
       "      <td>0</td>\n",
       "    </tr>\n",
       "  </tbody>\n",
       "</table>\n",
       "<p>5 rows × 115 columns</p>\n",
       "</div>"
      ],
      "text/plain": [
       "    PassengerId  Survived  Pclass  Sex   Age  SibSp  Parch       Ticket  \\\n",
       "12        904.0       1.0     1.0  0.0  23.0    1.0    0.0        21228   \n",
       "14        906.0       1.0     1.0  0.0  47.0    1.0    0.0  W.E.P. 5734   \n",
       "24        916.0       1.0     1.0  0.0  48.0    1.0    3.0     PC 17608   \n",
       "26        918.0       1.0     1.0  0.0  22.0    0.0    1.0       113509   \n",
       "28        920.0       0.0     1.0  1.0  41.0    0.0    0.0       113054   \n",
       "\n",
       "        Fare            Cabin  ...  \\\n",
       "12   82.2667              B45  ...   \n",
       "14   61.1750              E31  ...   \n",
       "24  262.3750  B57 B59 B63 B66  ...   \n",
       "26   61.9792              B36  ...   \n",
       "28   30.5000              A21  ...   \n",
       "\n",
       "    Name_Stengel, Mrs. Charles Emil Henry (Annie May Morris)  \\\n",
       "12                                                  0          \n",
       "14                                                  0          \n",
       "24                                                  0          \n",
       "26                                                  0          \n",
       "28                                                  0          \n",
       "\n",
       "   Name_Straus, Mr. Isidor Name_Straus, Mrs. Isidor (Rosalie Ida Blun)  \\\n",
       "12                       0                                           0   \n",
       "14                       0                                           0   \n",
       "24                       0                                           0   \n",
       "26                       0                                           0   \n",
       "28                       0                                           0   \n",
       "\n",
       "    Name_Swane, Mr. George  Name_Tucker, Mr. Gilbert Milligan Jr  \\\n",
       "12                       0                                     0   \n",
       "14                       0                                     0   \n",
       "24                       0                                     0   \n",
       "26                       0                                     0   \n",
       "28                       0                                     0   \n",
       "\n",
       "    Name_Warren, Mr. Frank Manley  Name_White, Mrs. John Stuart (Ella Holmes)  \\\n",
       "12                              0                                           0   \n",
       "14                              0                                           0   \n",
       "24                              0                                           0   \n",
       "26                              0                                           0   \n",
       "28                              0                                           0   \n",
       "\n",
       "    Name_Widener, Mr. George Dunton  \\\n",
       "12                                0   \n",
       "14                                0   \n",
       "24                                0   \n",
       "26                                0   \n",
       "28                                0   \n",
       "\n",
       "    Name_Widener, Mrs. George Dunton (Eleanor Elkins)  \\\n",
       "12                                                  0   \n",
       "14                                                  0   \n",
       "24                                                  0   \n",
       "26                                                  0   \n",
       "28                                                  0   \n",
       "\n",
       "    Name_Wilson, Miss. Helen Alice  \n",
       "12                               0  \n",
       "14                               0  \n",
       "24                               0  \n",
       "26                               0  \n",
       "28                               0  \n",
       "\n",
       "[5 rows x 115 columns]"
      ]
     },
     "execution_count": 59,
     "metadata": {},
     "output_type": "execute_result"
    }
   ],
   "source": [
    "data.head()"
   ]
  },
  {
   "cell_type": "code",
   "execution_count": 60,
   "id": "bb1c77be-6acf-4ca4-ab8c-45c99e1afdd7",
   "metadata": {},
   "outputs": [
    {
     "data": {
      "text/plain": [
       "<bound method DataFrame.corr of      PassengerId  Survived  Pclass  Sex   Age  SibSp  Parch         Ticket  \\\n",
       "12         904.0       1.0     1.0  0.0  23.0    1.0    0.0          21228   \n",
       "14         906.0       1.0     1.0  0.0  47.0    1.0    0.0    W.E.P. 5734   \n",
       "24         916.0       1.0     1.0  0.0  48.0    1.0    3.0       PC 17608   \n",
       "26         918.0       1.0     1.0  0.0  22.0    0.0    1.0         113509   \n",
       "28         920.0       0.0     1.0  1.0  41.0    0.0    0.0         113054   \n",
       "..           ...       ...     ...  ...   ...    ...    ...            ...   \n",
       "404       1296.0       0.0     1.0  1.0  43.0    1.0    0.0          17765   \n",
       "405       1297.0       0.0     2.0  1.0  20.0    0.0    0.0  SC/PARIS 2166   \n",
       "407       1299.0       0.0     1.0  1.0  50.0    1.0    1.0         113503   \n",
       "411       1303.0       1.0     1.0  0.0  37.0    1.0    0.0          19928   \n",
       "414       1306.0       1.0     1.0  0.0  39.0    0.0    0.0       PC 17758   \n",
       "\n",
       "         Fare            Cabin  ...  \\\n",
       "12    82.2667              B45  ...   \n",
       "14    61.1750              E31  ...   \n",
       "24   262.3750  B57 B59 B63 B66  ...   \n",
       "26    61.9792              B36  ...   \n",
       "28    30.5000              A21  ...   \n",
       "..        ...              ...  ...   \n",
       "404   27.7208              D40  ...   \n",
       "405   13.8625              D38  ...   \n",
       "407  211.5000              C80  ...   \n",
       "411   90.0000              C78  ...   \n",
       "414  108.9000             C105  ...   \n",
       "\n",
       "     Name_Stengel, Mrs. Charles Emil Henry (Annie May Morris)  \\\n",
       "12                                                   0          \n",
       "14                                                   0          \n",
       "24                                                   0          \n",
       "26                                                   0          \n",
       "28                                                   0          \n",
       "..                                                 ...          \n",
       "404                                                  0          \n",
       "405                                                  0          \n",
       "407                                                  0          \n",
       "411                                                  0          \n",
       "414                                                  0          \n",
       "\n",
       "    Name_Straus, Mr. Isidor Name_Straus, Mrs. Isidor (Rosalie Ida Blun)  \\\n",
       "12                        0                                           0   \n",
       "14                        0                                           0   \n",
       "24                        0                                           0   \n",
       "26                        0                                           0   \n",
       "28                        0                                           0   \n",
       "..                      ...                                         ...   \n",
       "404                       0                                           0   \n",
       "405                       0                                           0   \n",
       "407                       0                                           0   \n",
       "411                       0                                           0   \n",
       "414                       0                                           0   \n",
       "\n",
       "     Name_Swane, Mr. George  Name_Tucker, Mr. Gilbert Milligan Jr  \\\n",
       "12                        0                                     0   \n",
       "14                        0                                     0   \n",
       "24                        0                                     0   \n",
       "26                        0                                     0   \n",
       "28                        0                                     0   \n",
       "..                      ...                                   ...   \n",
       "404                       0                                     0   \n",
       "405                       0                                     0   \n",
       "407                       0                                     0   \n",
       "411                       0                                     0   \n",
       "414                       0                                     0   \n",
       "\n",
       "     Name_Warren, Mr. Frank Manley  \\\n",
       "12                               0   \n",
       "14                               0   \n",
       "24                               0   \n",
       "26                               0   \n",
       "28                               0   \n",
       "..                             ...   \n",
       "404                              0   \n",
       "405                              0   \n",
       "407                              0   \n",
       "411                              0   \n",
       "414                              0   \n",
       "\n",
       "     Name_White, Mrs. John Stuart (Ella Holmes)  \\\n",
       "12                                            0   \n",
       "14                                            0   \n",
       "24                                            0   \n",
       "26                                            0   \n",
       "28                                            0   \n",
       "..                                          ...   \n",
       "404                                           0   \n",
       "405                                           0   \n",
       "407                                           0   \n",
       "411                                           0   \n",
       "414                                           0   \n",
       "\n",
       "     Name_Widener, Mr. George Dunton  \\\n",
       "12                                 0   \n",
       "14                                 0   \n",
       "24                                 0   \n",
       "26                                 0   \n",
       "28                                 0   \n",
       "..                               ...   \n",
       "404                                0   \n",
       "405                                0   \n",
       "407                                1   \n",
       "411                                0   \n",
       "414                                0   \n",
       "\n",
       "     Name_Widener, Mrs. George Dunton (Eleanor Elkins)  \\\n",
       "12                                                   0   \n",
       "14                                                   0   \n",
       "24                                                   0   \n",
       "26                                                   0   \n",
       "28                                                   0   \n",
       "..                                                 ...   \n",
       "404                                                  0   \n",
       "405                                                  0   \n",
       "407                                                  0   \n",
       "411                                                  0   \n",
       "414                                                  0   \n",
       "\n",
       "     Name_Wilson, Miss. Helen Alice  \n",
       "12                                0  \n",
       "14                                0  \n",
       "24                                0  \n",
       "26                                0  \n",
       "28                                0  \n",
       "..                              ...  \n",
       "404                               0  \n",
       "405                               0  \n",
       "407                               0  \n",
       "411                               0  \n",
       "414                               0  \n",
       "\n",
       "[87 rows x 115 columns]>"
      ]
     },
     "execution_count": 60,
     "metadata": {},
     "output_type": "execute_result"
    }
   ],
   "source": [
    "data.corr"
   ]
  },
  {
   "cell_type": "code",
   "execution_count": 62,
   "id": "50b649f6-7fde-45c8-aaab-17a44b461d6e",
   "metadata": {},
   "outputs": [
    {
     "name": "stdout",
     "output_type": "stream",
     "text": [
      "     PassengerId  Survived  Pclass  Sex   Age  SibSp  Parch    Ticket  \\\n",
      "343       1235.0       1.0     1.0  0.0  58.0    0.0    1.0  PC 17755   \n",
      "\n",
      "         Fare        Cabin  ...  \\\n",
      "343  512.3292  B51 B53 B55  ...   \n",
      "\n",
      "     Name_Stengel, Mrs. Charles Emil Henry (Annie May Morris)  \\\n",
      "343                                                  0          \n",
      "\n",
      "    Name_Straus, Mr. Isidor Name_Straus, Mrs. Isidor (Rosalie Ida Blun)  \\\n",
      "343                       0                                           0   \n",
      "\n",
      "     Name_Swane, Mr. George  Name_Tucker, Mr. Gilbert Milligan Jr  \\\n",
      "343                       0                                     0   \n",
      "\n",
      "     Name_Warren, Mr. Frank Manley  \\\n",
      "343                              0   \n",
      "\n",
      "     Name_White, Mrs. John Stuart (Ella Holmes)  \\\n",
      "343                                           0   \n",
      "\n",
      "     Name_Widener, Mr. George Dunton  \\\n",
      "343                                0   \n",
      "\n",
      "     Name_Widener, Mrs. George Dunton (Eleanor Elkins)  \\\n",
      "343                                                  0   \n",
      "\n",
      "     Name_Wilson, Miss. Helen Alice  \n",
      "343                               0  \n",
      "\n",
      "[1 rows x 115 columns]\n"
     ]
    }
   ],
   "source": [
    "import numpy as np\n",
    "\n",
    "# Function to detect outliers using IQR\n",
    "def detect_outliers_iqr(df, column):\n",
    "    Q1 = df[column].quantile(0.25)\n",
    "    Q3 = df[column].quantile(0.75)\n",
    "    IQR = Q3 - Q1\n",
    "\n",
    "    lower_bound = Q1 - 1.5 * IQR\n",
    "    upper_bound = Q3 + 1.5 * IQR\n",
    "\n",
    "    outliers = df[(df[column] < lower_bound) | (df[column] > upper_bound)]\n",
    "    return outliers\n",
    "\n",
    "# Detect outliers in 'Fare'\n",
    "outliers_fare = detect_outliers_iqr(data, 'Fare')\n",
    "print(outliers_fare)\n"
   ]
  },
  {
   "cell_type": "markdown",
   "id": "f51ac503-796a-4684-966b-a5fad32a6d49",
   "metadata": {},
   "source": [
    "# model Training"
   ]
  },
  {
   "cell_type": "code",
   "execution_count": 63,
   "id": "5600c69f-d197-45dc-9082-d56132c10c3a",
   "metadata": {},
   "outputs": [],
   "source": [
    "from sklearn.model_selection import train_test_split"
   ]
  },
  {
   "cell_type": "code",
   "execution_count": 64,
   "id": "4766d942-0228-461e-a29d-f368e6e7cf95",
   "metadata": {},
   "outputs": [],
   "source": [
    "# Define the input feature and target variable\n",
    "x = data.drop(columns = ['Survived'])\n",
    "y = data['Survived']"
   ]
  },
  {
   "cell_type": "code",
   "execution_count": 68,
   "id": "d43b352b-b63f-4ccc-a6b4-ae3667dcc364",
   "metadata": {},
   "outputs": [],
   "source": [
    "x_train,y_train,x_test,y_test = train_test_split(x,y, test_size = 0.2, random_state = 42)"
   ]
  },
  {
   "cell_type": "code",
   "execution_count": 75,
   "id": "cc99be01-9af8-4a88-85dd-8daf1678a89e",
   "metadata": {},
   "outputs": [
    {
     "name": "stdout",
     "output_type": "stream",
     "text": [
      "    PassengerId  Survived  Pclass  Sex   Age  SibSp  Parch  Ticket      Fare  \\\n",
      "12        904.0       1.0     1.0  0.0  23.0    1.0    0.0    32.0   82.2667   \n",
      "14        906.0       1.0     1.0  0.0  47.0    1.0    0.0    65.0   61.1750   \n",
      "24        916.0       1.0     1.0  0.0  48.0    1.0    3.0    53.0  262.3750   \n",
      "26        918.0       1.0     1.0  0.0  22.0    0.0    1.0     9.0   61.9792   \n",
      "28        920.0       0.0     1.0  1.0  41.0    0.0    0.0     7.0   30.5000   \n",
      "\n",
      "    Cabin  ...  Name_Stengel, Mrs. Charles Emil Henry (Annie May Morris)  \\\n",
      "12   12.0  ...                                                0.0          \n",
      "14   58.0  ...                                                0.0          \n",
      "24   15.0  ...                                                0.0          \n",
      "26   10.0  ...                                                0.0          \n",
      "28    2.0  ...                                                0.0          \n",
      "\n",
      "    Name_Straus, Mr. Isidor  Name_Straus, Mrs. Isidor (Rosalie Ida Blun)  \\\n",
      "12                      0.0                                          0.0   \n",
      "14                      0.0                                          0.0   \n",
      "24                      0.0                                          0.0   \n",
      "26                      0.0                                          0.0   \n",
      "28                      0.0                                          0.0   \n",
      "\n",
      "    Name_Swane, Mr. George  Name_Tucker, Mr. Gilbert Milligan Jr  \\\n",
      "12                     0.0                                   0.0   \n",
      "14                     0.0                                   0.0   \n",
      "24                     0.0                                   0.0   \n",
      "26                     0.0                                   0.0   \n",
      "28                     0.0                                   0.0   \n",
      "\n",
      "    Name_Warren, Mr. Frank Manley  Name_White, Mrs. John Stuart (Ella Holmes)  \\\n",
      "12                            0.0                                         0.0   \n",
      "14                            0.0                                         0.0   \n",
      "24                            0.0                                         0.0   \n",
      "26                            0.0                                         0.0   \n",
      "28                            0.0                                         0.0   \n",
      "\n",
      "    Name_Widener, Mr. George Dunton  \\\n",
      "12                              0.0   \n",
      "14                              0.0   \n",
      "24                              0.0   \n",
      "26                              0.0   \n",
      "28                              0.0   \n",
      "\n",
      "    Name_Widener, Mrs. George Dunton (Eleanor Elkins)  \\\n",
      "12                                                0.0   \n",
      "14                                                0.0   \n",
      "24                                                0.0   \n",
      "26                                                0.0   \n",
      "28                                                0.0   \n",
      "\n",
      "    Name_Wilson, Miss. Helen Alice  \n",
      "12                             0.0  \n",
      "14                             0.0  \n",
      "24                             0.0  \n",
      "26                             0.0  \n",
      "28                             0.0  \n",
      "\n",
      "[5 rows x 115 columns]\n"
     ]
    },
    {
     "name": "stderr",
     "output_type": "stream",
     "text": [
      "C:\\Users\\asus\\AppData\\Local\\Temp\\ipykernel_7936\\1949696483.py:8: SettingWithCopyWarning: \n",
      "A value is trying to be set on a copy of a slice from a DataFrame.\n",
      "Try using .loc[row_indexer,col_indexer] = value instead\n",
      "\n",
      "See the caveats in the documentation: https://pandas.pydata.org/pandas-docs/stable/user_guide/indexing.html#returning-a-view-versus-a-copy\n",
      "  data[col] = label_encoder.fit_transform(data[col].astype(str))\n",
      "C:\\Users\\asus\\AppData\\Local\\Temp\\ipykernel_7936\\1949696483.py:8: SettingWithCopyWarning: \n",
      "A value is trying to be set on a copy of a slice from a DataFrame.\n",
      "Try using .loc[row_indexer,col_indexer] = value instead\n",
      "\n",
      "See the caveats in the documentation: https://pandas.pydata.org/pandas-docs/stable/user_guide/indexing.html#returning-a-view-versus-a-copy\n",
      "  data[col] = label_encoder.fit_transform(data[col].astype(str))\n",
      "C:\\Users\\asus\\AppData\\Local\\Temp\\ipykernel_7936\\1949696483.py:8: SettingWithCopyWarning: \n",
      "A value is trying to be set on a copy of a slice from a DataFrame.\n",
      "Try using .loc[row_indexer,col_indexer] = value instead\n",
      "\n",
      "See the caveats in the documentation: https://pandas.pydata.org/pandas-docs/stable/user_guide/indexing.html#returning-a-view-versus-a-copy\n",
      "  data[col] = label_encoder.fit_transform(data[col].astype(str))\n",
      "C:\\Users\\asus\\AppData\\Local\\Temp\\ipykernel_7936\\1949696483.py:8: SettingWithCopyWarning: \n",
      "A value is trying to be set on a copy of a slice from a DataFrame.\n",
      "Try using .loc[row_indexer,col_indexer] = value instead\n",
      "\n",
      "See the caveats in the documentation: https://pandas.pydata.org/pandas-docs/stable/user_guide/indexing.html#returning-a-view-versus-a-copy\n",
      "  data[col] = label_encoder.fit_transform(data[col].astype(str))\n"
     ]
    }
   ],
   "source": [
    "from sklearn.preprocessing import LabelEncoder\n",
    "# Identify categorical columns\n",
    "categorical_columns = data.select_dtypes(include=['object']).columns\n",
    "\n",
    "# Convert categorical variables to numerical using Label Encoding\n",
    "label_encoder = LabelEncoder()\n",
    "for col in categorical_columns:\n",
    "    data[col] = label_encoder.fit_transform(data[col].astype(str))\n",
    "\n",
    "# Convert the entire dataset to float\n",
    "data = data.astype(float)\n",
    "\n",
    "# Display first few rows\n",
    "print(data.head())"
   ]
  },
  {
   "cell_type": "code",
   "execution_count": 78,
   "id": "fba0d7f6-2673-4d66-82dc-a19c480198c2",
   "metadata": {},
   "outputs": [],
   "source": [
    "data.drop(columns=[\"Ticket\"], inplace=True)\n"
   ]
  },
  {
   "cell_type": "code",
   "execution_count": null,
   "id": "b4bab796-53b9-4d2e-990f-6d6849d52c97",
   "metadata": {},
   "outputs": [],
   "source": []
  }
 ],
 "metadata": {
  "kernelspec": {
   "display_name": "Python 3 (ipykernel)",
   "language": "python",
   "name": "python3"
  },
  "language_info": {
   "codemirror_mode": {
    "name": "ipython",
    "version": 3
   },
   "file_extension": ".py",
   "mimetype": "text/x-python",
   "name": "python",
   "nbconvert_exporter": "python",
   "pygments_lexer": "ipython3",
   "version": "3.13.0"
  }
 },
 "nbformat": 4,
 "nbformat_minor": 5
}
